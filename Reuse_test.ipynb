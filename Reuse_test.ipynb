{
 "cells": [
  {
   "cell_type": "markdown",
   "metadata": {},
   "source": [
    "# 🌸モデルの再利用をしてみる🌸"
   ]
  },
  {
   "cell_type": "code",
   "execution_count": 12,
   "metadata": {},
   "outputs": [],
   "source": [
    "import keras\n",
    "import numpy as np\n",
    "from PIL import Image"
   ]
  },
  {
   "cell_type": "markdown",
   "metadata": {},
   "source": [
    "### 🐍generatorを開く\n",
    "- saved_modelフォルダ内の、generator_model.jsonに、json形式でmodelの構造が保存されている。\n",
    "- saved_modelフォルダ内の、generator_weights.h5に、重みのデータが保存されている。"
   ]
  },
  {
   "cell_type": "code",
   "execution_count": 18,
   "metadata": {},
   "outputs": [],
   "source": [
    "# モデルの構造をロード\n",
    "with open('saved_model/generator_model.json') as f_gen:\n",
    "    generator_json = f_gen.read()\n",
    "    \n",
    "reuse_generator = keras.models.model_from_json(generator_json)\n",
    "\n",
    "# モデルの重みをロード\n",
    "reuse_generator.load_weights('saved_model/generator_weights.h5')"
   ]
  },
  {
   "cell_type": "markdown",
   "metadata": {},
   "source": [
    "### 🐍discriminatorについても同じことをする"
   ]
  },
  {
   "cell_type": "code",
   "execution_count": 23,
   "metadata": {},
   "outputs": [],
   "source": [
    "with open('saved_model/discriminator_model.json') as f_dis:\n",
    "    discriminator_json = f_dis.read()\n",
    "\n",
    "reuse_discriminator = keras.models.model_from_json(discriminator_json)\n",
    "\n",
    "reuse_discriminator.load_weights('saved_model/discriminator_weights.h5')"
   ]
  },
  {
   "cell_type": "markdown",
   "metadata": {},
   "source": [
    "### 🐍テストのため、generatorに画像を生成させてみる\n",
    "- 一応、64枚生成させている"
   ]
  },
  {
   "cell_type": "code",
   "execution_count": 24,
   "metadata": {},
   "outputs": [],
   "source": [
    "noise = np.random.normal(0, 1, (64, 100))\n",
    "gen_imgs = reuse_generator.predict(noise)"
   ]
  },
  {
   "cell_type": "markdown",
   "metadata": {},
   "source": [
    "### 🐍画像をtest_fig.pngで保存"
   ]
  },
  {
   "cell_type": "code",
   "execution_count": 25,
   "metadata": {},
   "outputs": [],
   "source": [
    "gen_imgs = np.squeeze(gen_imgs)\n",
    "save_img = gen_imgs[0] * 127.5 + 127.5\n",
    "Image.fromarray(save_img.astype(np.uint8)).save('test_fig.png')"
   ]
  },
  {
   "cell_type": "code",
   "execution_count": null,
   "metadata": {},
   "outputs": [],
   "source": []
  }
 ],
 "metadata": {
  "kernelspec": {
   "display_name": "Python 3",
   "language": "python",
   "name": "python3"
  },
  "language_info": {
   "codemirror_mode": {
    "name": "ipython",
    "version": 3
   },
   "file_extension": ".py",
   "mimetype": "text/x-python",
   "name": "python",
   "nbconvert_exporter": "python",
   "pygments_lexer": "ipython3",
   "version": "3.7.2"
  }
 },
 "nbformat": 4,
 "nbformat_minor": 2
}
